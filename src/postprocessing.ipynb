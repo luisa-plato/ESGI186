{
 "cells": [
  {
   "cell_type": "code",
   "execution_count": null,
   "metadata": {},
   "outputs": [],
   "source": [
    "import json\n",
    "from fenics import *\n",
    "import numpy as np\n",
    "import logging\n",
    "import mshr\n",
    "\n",
    "#Turn off logging\n",
    "logging.getLogger(\"FFC\").setLevel(logging.ERROR)\n",
    "logging.getLogger(\"UFL_LEGACY\").setLevel(logging.ERROR)\n",
    "logging.getLogger(\"UFL\").setLevel(logging.ERROR)\n",
    "def read_dictionary(fname):\n",
    "    with open(fname) as json_file:\n",
    "        pars = json.load(json_file)\n",
    "    return pars\n",
    "\n",
    "def read_state(fname,FE):\n",
    "\n",
    "    data = read_dictionary(fname + '.json')\n",
    "    it = data['step']\n",
    "    t  = data['time']\n",
    "\n",
    "    mesh = Mesh()\n",
    "\n",
    "    f=HDF5File(mesh.mpi_comm(),fname+'.h5', 'r')\n",
    "    f.read(mesh,\"mesh\",False)\n",
    "    V = FunctionSpace(mesh,FE)\n",
    "    q = Function(V)\n",
    "    f.read(q,\"q\")\n",
    "    f.close()\n",
    "    return mesh,q,it,t\n",
    "\n",
    "def read_mesh(fname):\n",
    "\n",
    "    data = read_dictionary(fname + '.json')\n",
    "    it = data['step']\n",
    "    t  = data['time']\n",
    "\n",
    "    mesh = Mesh()\n",
    "\n",
    "    f=HDF5File(mesh.mpi_comm(),fname+'.h5', 'r')\n",
    "    f.read(mesh,\"mesh\",False)\n",
    "    f.close()\n",
    "    return mesh\n",
    "\n",
    "#mesh = read_mesh('partest/kiln3D/phi0')\n",
    "#f = File('meshtest.pvd')\n",
    "#f << mesh\n",
    "\n",
    "FE_ac = FiniteElement('CG', tetrahedron, 1)\n",
    "\n",
    "# Space for Stokes problem\n",
    "FE_u = VectorElement('CG', tetrahedron, 2)\n",
    "FE_p = FiniteElement('CG', tetrahedron, 1)\n",
    "FEs = MixedElement([FE_u, FE_p])\n",
    "f1 = File('../kiln3D_tilted/kiln3D_tilted/phitest.pvd')\n",
    "f2 = File('../kiln3D_tilted/kiln3D_tilted/vtest.pvd')\n",
    "for i in range(0,97,5):\n",
    "    _,phi,it,t = read_state('../kiln3D_tilted/kiln3D_tilted/phi'+str(i),FE_ac)\n",
    "    _,vp,it,t = read_state('../kiln3D_tilted/kiln3D_tilted/v'+str(i),FEs)\n",
    "    phi.rename('phi','phi')\n",
    "    f1 << (phi,t)\n",
    "    v,p = vp.split()\n",
    "    v.rename('v','v')\n",
    "    f2 << (v,t)\n",
    "    \n",
    "    print(it,t)"
   ]
  },
  {
   "cell_type": "code",
   "execution_count": null,
   "metadata": {},
   "outputs": [],
   "source": [
    "print(\"Number of DoFs:\", len(v.vector()))\n",
    "print(\"Number of DoFs:\", len(phi.vector()))"
   ]
  },
  {
   "cell_type": "code",
   "execution_count": null,
   "metadata": {},
   "outputs": [],
   "source": []
  }
 ],
 "metadata": {
  "colab": {
   "provenance": []
  },
  "kernelspec": {
   "display_name": "Python 3",
   "language": "python",
   "name": "python3"
  },
  "language_info": {
   "codemirror_mode": {
    "name": "ipython",
    "version": 3
   },
   "file_extension": ".py",
   "mimetype": "text/x-python",
   "name": "python",
   "nbconvert_exporter": "python",
   "pygments_lexer": "ipython3",
   "version": "3.6.9"
  }
 },
 "nbformat": 4,
 "nbformat_minor": 4
}
