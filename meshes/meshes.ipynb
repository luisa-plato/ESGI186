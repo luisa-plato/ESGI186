{
 "cells": [
  {
   "cell_type": "code",
   "execution_count": null,
   "metadata": {},
   "outputs": [],
   "source": [
    "from fenics import *\n",
    "from mshr import *\n",
    "import matplotlib.pyplot as plt\n",
    "\n",
    "domain = Circle(Point(0,0),1)\n",
    "mesh   = generate_mesh(domain,16)\n",
    "\n",
    "plt.figure()\n",
    "plot(mesh)\n",
    "\n",
    "File(\"disc.xml\") << mesh\n",
    "\n",
    "domain = Circle(Point(0,0),1) - Rectangle(Point(-1,0),Point(1,1))\n",
    "mesh   = generate_mesh(domain,16)\n",
    "\n",
    "plt.figure()\n",
    "plot(mesh)\n",
    "\n",
    "File(\"half_disc.xml\") << mesh\n",
    "\n",
    "length = 5\n",
    "k = 6\n",
    "mesh = RectangleMesh(Point(0,-1),Point(length,1),round(length*k),round(2*k),'left/right') # #Rectangle(Point(-1,-1),Point(length,1))\n",
    "#mesh   = generate_mesh(domain,24)\n",
    "\n",
    "plt.figure()\n",
    "plot(mesh)\n",
    "\n",
    "File(\"rectangle.xml\") << mesh"
   ]
  }
 ],
 "metadata": {
  "kernelspec": {
   "display_name": "Python 3",
   "language": "python",
   "name": "python3"
  },
  "language_info": {
   "codemirror_mode": {
    "name": "ipython",
    "version": 3
   },
   "file_extension": ".py",
   "mimetype": "text/x-python",
   "name": "python",
   "nbconvert_exporter": "python",
   "pygments_lexer": "ipython3",
   "version": "3.6.9"
  }
 },
 "nbformat": 4,
 "nbformat_minor": 2
}
