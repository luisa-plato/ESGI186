{
 "cells": [
  {
   "cell_type": "code",
   "execution_count": null,
   "metadata": {},
   "outputs": [],
   "source": [
    "from fenics import *\n",
    "from mshr import *\n",
    "import matplotlib.pyplot as plt\n",
    "\n",
    "domain = Circle(Point(0,0),1)\n",
    "mesh   = generate_mesh(domain,16)\n",
    "\n",
    "plt.figure()\n",
    "plot(mesh)\n",
    "\n",
    "File(\"disc.xml\") << mesh\n",
    "\n",
    "domain = Circle(Point(0,0),1) - Rectangle(Point(-1,0),Point(1,1))\n",
    "mesh   = generate_mesh(domain,16)\n",
    "\n",
    "plt.figure()\n",
    "plot(mesh)\n",
    "\n",
    "File(\"half_disc.xml\") << mesh\n",
    "\n",
    "length = 5\n",
    "k = 6\n",
    "mesh = RectangleMesh(Point(0,-1),Point(length,1),round(length*k),round(2*k),'left/right') # #Rectangle(Point(-1,-1),Point(length,1))\n",
    "#mesh   = generate_mesh(domain,24)\n",
    "\n",
    "plt.figure()\n",
    "plot(mesh)\n",
    "\n",
    "File(\"rectangle.xml\") << mesh"
   ]
  },
  {
   "cell_type": "code",
   "execution_count": null,
   "metadata": {},
   "outputs": [],
   "source": [
    "from fenics import *\n",
    "from mshr import *\n",
    "\n",
    "# Cylinder parameters\n",
    "radius = 1.0\n",
    "height = 5.0\n",
    "\n",
    "# Full lower-half cylinder from z = -height to z = 0\n",
    "full_cylinder = Cylinder(Point(0.0, 0.0, -height),  # bottom center\n",
    "                         Point(0.0, 0.0, 0.0),      # top center\n",
    "                         radius, radius)\n",
    "\n",
    "# Subtract box that removes x < 0 part\n",
    "cutting_box = Box(Point(2*radius, -2*radius, -2*height),\n",
    "                  Point(0.0, 2*radius, 1.0))  # everything with x < 0\n",
    "\n",
    "# Perform subtraction\n",
    "half_cylinder = full_cylinder - cutting_box\n",
    "\n",
    "# Generate mesh\n",
    "mesh_resolution = 96\n",
    "mesh = generate_mesh(half_cylinder, mesh_resolution)\n",
    "\n",
    "def write_mesh(mesh,fname):\n",
    "    f=HDF5File(mesh.mpi_comm(),fname  + '.h5', 'w')\n",
    "    f.write(mesh,\"mesh\")\n",
    "    f.close()\n",
    "    \n",
    "write_mesh(mesh,'mesh3D')"
   ]
  }
 ],
 "metadata": {
  "kernelspec": {
   "display_name": "Python 3",
   "language": "python",
   "name": "python3"
  },
  "language_info": {
   "codemirror_mode": {
    "name": "ipython",
    "version": 3
   },
   "file_extension": ".py",
   "mimetype": "text/x-python",
   "name": "python",
   "nbconvert_exporter": "python",
   "pygments_lexer": "ipython3",
   "version": "3.6.9"
  }
 },
 "nbformat": 4,
 "nbformat_minor": 2
}
